{
  "nbformat": 4,
  "nbformat_minor": 0,
  "metadata": {
    "colab": {
      "provenance": [],
      "authorship_tag": "ABX9TyMQKpe2ItUb7ta85Bk+BI97",
      "include_colab_link": true
    },
    "kernelspec": {
      "name": "python3",
      "display_name": "Python 3"
    },
    "language_info": {
      "name": "python"
    }
  },
  "cells": [
    {
      "cell_type": "markdown",
      "metadata": {
        "id": "view-in-github",
        "colab_type": "text"
      },
      "source": [
        "<a href=\"https://colab.research.google.com/github/theweird-kid/ML-Notes/blob/main/Maths/Matrix_Ops.ipynb\" target=\"_parent\"><img src=\"https://colab.research.google.com/assets/colab-badge.svg\" alt=\"Open In Colab\"/></a>"
      ]
    },
    {
      "cell_type": "markdown",
      "source": [
        "Creating Matrices"
      ],
      "metadata": {
        "id": "oo1jHgJlSBYE"
      }
    },
    {
      "cell_type": "code",
      "execution_count": null,
      "metadata": {
        "colab": {
          "base_uri": "https://localhost:8080/"
        },
        "id": "PsxkrKugRtz_",
        "outputId": "c4822892-5177-4ed2-dd77-803fa61e8701"
      },
      "outputs": [
        {
          "output_type": "execute_result",
          "data": {
            "text/plain": [
              "(2, 2)"
            ]
          },
          "metadata": {},
          "execution_count": 1
        }
      ],
      "source": [
        "import numpy as np\n",
        "\n",
        "mat_a = np.array([[2, 4], [3, 2]])\n",
        "mat_a.shape"
      ]
    },
    {
      "cell_type": "code",
      "source": [
        "print(mat_a)"
      ],
      "metadata": {
        "colab": {
          "base_uri": "https://localhost:8080/"
        },
        "id": "UMM7hl9ASLFz",
        "outputId": "56b00875-1e29-4bea-e7c4-816a25c32a59"
      },
      "execution_count": null,
      "outputs": [
        {
          "output_type": "stream",
          "name": "stdout",
          "text": [
            "[[2 4]\n",
            " [3 2]]\n"
          ]
        }
      ]
    },
    {
      "cell_type": "code",
      "source": [
        "mat_b = np.array([[11, 12, 3], [4, 6, 7], [19, 12, 13]])"
      ],
      "metadata": {
        "id": "jTgwRVnPSOFB"
      },
      "execution_count": null,
      "outputs": []
    },
    {
      "cell_type": "code",
      "source": [
        "mat_b.shape"
      ],
      "metadata": {
        "colab": {
          "base_uri": "https://localhost:8080/"
        },
        "id": "HttFt5FUSZ4K",
        "outputId": "0774095f-5da4-4648-d199-d52051c26e09"
      },
      "execution_count": null,
      "outputs": [
        {
          "output_type": "execute_result",
          "data": {
            "text/plain": [
              "(3, 3)"
            ]
          },
          "metadata": {},
          "execution_count": 5
        }
      ]
    },
    {
      "cell_type": "markdown",
      "source": [
        "Generating Matrices with Random Values"
      ],
      "metadata": {
        "id": "04m4BIhIShox"
      }
    },
    {
      "cell_type": "code",
      "source": [
        "mat_rando = np.random.rand(3, 3)"
      ],
      "metadata": {
        "id": "eddO_UvVSdbv"
      },
      "execution_count": null,
      "outputs": []
    },
    {
      "cell_type": "code",
      "source": [
        "print(mat_rando)"
      ],
      "metadata": {
        "colab": {
          "base_uri": "https://localhost:8080/"
        },
        "id": "6UdVoEoHSuPL",
        "outputId": "6d64cbc2-172f-420d-934f-e6a95da1cd64"
      },
      "execution_count": null,
      "outputs": [
        {
          "output_type": "stream",
          "name": "stdout",
          "text": [
            "[[0.87186234 0.0148397  0.13494662]\n",
            " [0.57515367 0.74525111 0.93571903]\n",
            " [0.10073786 0.84063422 0.55494133]]\n"
          ]
        }
      ]
    },
    {
      "cell_type": "markdown",
      "source": [
        "Random Matrix with Integer Values"
      ],
      "metadata": {
        "id": "o8UEWiPITDGU"
      }
    },
    {
      "cell_type": "code",
      "source": [
        "# Matrix with random Integers less than 100\n",
        "mat_rando = np.random.randint(100, size=(3, 3))"
      ],
      "metadata": {
        "id": "q27EPzcISvvc"
      },
      "execution_count": null,
      "outputs": []
    },
    {
      "cell_type": "code",
      "source": [
        "print(mat_rando)"
      ],
      "metadata": {
        "colab": {
          "base_uri": "https://localhost:8080/"
        },
        "id": "eDOP876AS0Gs",
        "outputId": "b916a7d9-2223-4d6d-e8e2-73ed1b8abd40"
      },
      "execution_count": null,
      "outputs": [
        {
          "output_type": "stream",
          "name": "stdout",
          "text": [
            "[[29 95 26]\n",
            " [45  1 77]\n",
            " [75 79  1]]\n"
          ]
        }
      ]
    },
    {
      "cell_type": "markdown",
      "source": [
        "Matrix with All values as 1s"
      ],
      "metadata": {
        "id": "ZN4w8iAiTUvi"
      }
    },
    {
      "cell_type": "code",
      "source": [
        "# By Default everything is floating point, mention dtype to get int or something\n",
        "mat_1s = np.ones((7, 3), dtype=int)"
      ],
      "metadata": {
        "id": "GD45DxnPTKfj"
      },
      "execution_count": null,
      "outputs": []
    },
    {
      "cell_type": "code",
      "source": [
        "print(mat_1s)"
      ],
      "metadata": {
        "colab": {
          "base_uri": "https://localhost:8080/"
        },
        "id": "c7AeW3JuTbGk",
        "outputId": "2742d1f6-b57c-4c61-b674-abef05e19cbe"
      },
      "execution_count": null,
      "outputs": [
        {
          "output_type": "stream",
          "name": "stdout",
          "text": [
            "[[1 1 1]\n",
            " [1 1 1]\n",
            " [1 1 1]\n",
            " [1 1 1]\n",
            " [1 1 1]\n",
            " [1 1 1]\n",
            " [1 1 1]]\n"
          ]
        }
      ]
    },
    {
      "cell_type": "code",
      "source": [
        "# Null or Zero Matrix\n",
        "mat_0 = np.zeros((5, 5), dtype=int)\n",
        "print(mat_0)"
      ],
      "metadata": {
        "colab": {
          "base_uri": "https://localhost:8080/"
        },
        "id": "GRC5ugifTcmZ",
        "outputId": "ad5a522a-8f5f-4677-e62d-02df22846489"
      },
      "execution_count": null,
      "outputs": [
        {
          "output_type": "stream",
          "name": "stdout",
          "text": [
            "[[0 0 0 0 0]\n",
            " [0 0 0 0 0]\n",
            " [0 0 0 0 0]\n",
            " [0 0 0 0 0]\n",
            " [0 0 0 0 0]]\n"
          ]
        }
      ]
    },
    {
      "cell_type": "code",
      "source": [
        "# Identity Matrix\n",
        "mat_ident = np.eye(6, dtype=int)\n",
        "print(mat_ident)"
      ],
      "metadata": {
        "colab": {
          "base_uri": "https://localhost:8080/"
        },
        "id": "9krkHonKUCG7",
        "outputId": "b5927b88-f0f7-46c8-c804-be78b2fc8c85"
      },
      "execution_count": null,
      "outputs": [
        {
          "output_type": "stream",
          "name": "stdout",
          "text": [
            "[[1 0 0 0 0 0]\n",
            " [0 1 0 0 0 0]\n",
            " [0 0 1 0 0 0]\n",
            " [0 0 0 1 0 0]\n",
            " [0 0 0 0 1 0]\n",
            " [0 0 0 0 0 1]]\n"
          ]
        }
      ]
    },
    {
      "cell_type": "markdown",
      "source": [
        "Matrix Operations"
      ],
      "metadata": {
        "id": "HojflX6FUYeq"
      }
    },
    {
      "cell_type": "code",
      "source": [
        "# Transpose of a matrix\n",
        "mat_ = np.random.randint(100, size=(4, 5))\n",
        "print(mat_)"
      ],
      "metadata": {
        "colab": {
          "base_uri": "https://localhost:8080/"
        },
        "id": "MxaKh2CRUPQi",
        "outputId": "7ff50790-1c89-469c-b31a-99a7516590a1"
      },
      "execution_count": null,
      "outputs": [
        {
          "output_type": "stream",
          "name": "stdout",
          "text": [
            "[[69 37  8 23 34]\n",
            " [71 27 43 27 55]\n",
            " [25 85 81 49 73]\n",
            " [ 9 24 62 10 27]]\n"
          ]
        }
      ]
    },
    {
      "cell_type": "code",
      "source": [
        "# Print Transpose\n",
        "mat_trans_ = mat_.transpose()\n",
        "print(mat_trans_)"
      ],
      "metadata": {
        "colab": {
          "base_uri": "https://localhost:8080/"
        },
        "id": "WO4JsMutUhvX",
        "outputId": "509b73f9-74cc-4a7b-840a-eb885d6953ce"
      },
      "execution_count": null,
      "outputs": [
        {
          "output_type": "stream",
          "name": "stdout",
          "text": [
            "[[69 71 25  9]\n",
            " [37 27 85 24]\n",
            " [ 8 43 81 62]\n",
            " [23 27 49 10]\n",
            " [34 55 73 27]]\n"
          ]
        }
      ]
    },
    {
      "cell_type": "code",
      "source": [
        "# Matrix Multiplication -> Note: Use np.dot(mat_a_, mat_b_) instead of np.multiply for \"MATRIX MULTIPLICATION\".\n",
        "# the .multiply is for elementwise Multiplication\n",
        "mat_a = np.random.randint(15, size=(3, 3))\n",
        "mat_b = np.random.randint(20, size=(3, 3))\n",
        "\n",
        "print(mat_a)\n",
        "print(mat_b)\n",
        "\n",
        "mat_dot = np.dot(mat_a, mat_b)\n",
        "print(mat_dot)"
      ],
      "metadata": {
        "colab": {
          "base_uri": "https://localhost:8080/"
        },
        "id": "V03ZxBhOUpUB",
        "outputId": "899dd9e4-eb85-43f5-9694-a22022dbeac1"
      },
      "execution_count": null,
      "outputs": [
        {
          "output_type": "stream",
          "name": "stdout",
          "text": [
            "[[ 3  7  2]\n",
            " [10 12 12]\n",
            " [ 0 13  6]]\n",
            "[[18 15  6]\n",
            " [ 5  6 15]\n",
            " [15  8  7]]\n",
            "[[119 103 137]\n",
            " [420 318 324]\n",
            " [155 126 237]]\n"
          ]
        }
      ]
    },
    {
      "cell_type": "code",
      "source": [],
      "metadata": {
        "id": "hEqVOwGSWGh6"
      },
      "execution_count": null,
      "outputs": []
    }
  ]
}