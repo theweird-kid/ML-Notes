{
  "nbformat": 4,
  "nbformat_minor": 0,
  "metadata": {
    "colab": {
      "provenance": [],
      "authorship_tag": "ABX9TyPR2C9jb1YZ34O2UB2FAXPf",
      "include_colab_link": true
    },
    "kernelspec": {
      "name": "python3",
      "display_name": "Python 3"
    },
    "language_info": {
      "name": "python"
    }
  },
  "cells": [
    {
      "cell_type": "markdown",
      "metadata": {
        "id": "view-in-github",
        "colab_type": "text"
      },
      "source": [
        "<a href=\"https://colab.research.google.com/github/theweird-kid/ML-Notes/blob/main/Basics/NumpyBasics.ipynb\" target=\"_parent\"><img src=\"https://colab.research.google.com/assets/colab-badge.svg\" alt=\"Open In Colab\"/></a>"
      ]
    },
    {
      "cell_type": "code",
      "execution_count": null,
      "metadata": {
        "id": "rkUOdq_S1rNf"
      },
      "outputs": [],
      "source": [
        "import numpy as np"
      ]
    },
    {
      "cell_type": "code",
      "source": [
        "from time import process_time"
      ],
      "metadata": {
        "id": "tG8IBAQ8FjNw"
      },
      "execution_count": null,
      "outputs": []
    },
    {
      "cell_type": "code",
      "source": [
        "np_array = np.array([i for i in range(10000)])\n",
        "\n",
        "start_time = process_time()\n",
        "\n",
        "np_array += 5\n",
        "\n",
        "end_time = process_time()\n",
        "\n",
        "print(end_time-start_time)"
      ],
      "metadata": {
        "colab": {
          "base_uri": "https://localhost:8080/"
        },
        "id": "GVGofS6FFBTb",
        "outputId": "5f7c5a21-889a-4145-c33b-9c8f2d20f77e"
      },
      "execution_count": null,
      "outputs": [
        {
          "output_type": "stream",
          "name": "stdout",
          "text": [
            "0.0005354290000001427\n"
          ]
        }
      ]
    },
    {
      "cell_type": "code",
      "source": [
        "np_array = np.array([1, 2, 4, 5, 6])\n",
        "type(np_array)"
      ],
      "metadata": {
        "colab": {
          "base_uri": "https://localhost:8080/"
        },
        "id": "oJZ32lhXGMbr",
        "outputId": "88b1abda-17e1-486d-978c-be8df00fdd3d"
      },
      "execution_count": null,
      "outputs": [
        {
          "output_type": "execute_result",
          "data": {
            "text/plain": [
              "numpy.ndarray"
            ]
          },
          "metadata": {},
          "execution_count": 4
        }
      ]
    },
    {
      "cell_type": "code",
      "source": [
        "# 2D array\n",
        "b = np.array([(1, 2, 3, 4, 5), (6, 1, 2, 8, 11)])\n",
        "print(b)\n",
        "b.shape"
      ],
      "metadata": {
        "colab": {
          "base_uri": "https://localhost:8080/"
        },
        "id": "G9d-OH5TGMsF",
        "outputId": "8b9469a2-f7e7-4eb8-de6f-e1717f0ae751"
      },
      "execution_count": null,
      "outputs": [
        {
          "output_type": "stream",
          "name": "stdout",
          "text": [
            "[[ 1  2  3  4  5]\n",
            " [ 6  1  2  8 11]]\n"
          ]
        },
        {
          "output_type": "execute_result",
          "data": {
            "text/plain": [
              "(2, 5)"
            ]
          },
          "metadata": {},
          "execution_count": 5
        }
      ]
    },
    {
      "cell_type": "code",
      "source": [
        "c = np.array([(1, 2, 4, 5), (11, 12.3, 14, 11)], dtype=float)\n",
        "print(c)"
      ],
      "metadata": {
        "colab": {
          "base_uri": "https://localhost:8080/"
        },
        "id": "DdE4bHM8HABO",
        "outputId": "b1051305-8316-403e-d1b7-ccb24fa0c6e1"
      },
      "execution_count": null,
      "outputs": [
        {
          "output_type": "stream",
          "name": "stdout",
          "text": [
            "[[ 1.   2.   4.   5. ]\n",
            " [11.  12.3 14.  11. ]]\n"
          ]
        }
      ]
    },
    {
      "cell_type": "code",
      "source": [
        "# Initial Place Holders\n",
        "\n",
        "# Numpy array of zeros\n",
        "\n",
        "x = np.zeros((4, 5))\n",
        "print(x)"
      ],
      "metadata": {
        "colab": {
          "base_uri": "https://localhost:8080/"
        },
        "id": "6CiUQwHIHT5F",
        "outputId": "a906f26b-4d67-4d6a-f323-ac930a85a500"
      },
      "execution_count": null,
      "outputs": [
        {
          "output_type": "stream",
          "name": "stdout",
          "text": [
            "[[0. 0. 0. 0. 0.]\n",
            " [0. 0. 0. 0. 0.]\n",
            " [0. 0. 0. 0. 0.]\n",
            " [0. 0. 0. 0. 0.]]\n"
          ]
        }
      ]
    },
    {
      "cell_type": "code",
      "source": [
        "y = np.ones((3, 3))\n",
        "print(y)"
      ],
      "metadata": {
        "colab": {
          "base_uri": "https://localhost:8080/"
        },
        "id": "jYluq-osHfOo",
        "outputId": "59c07949-1b76-4845-cd23-fa9ede433fc1"
      },
      "execution_count": null,
      "outputs": [
        {
          "output_type": "stream",
          "name": "stdout",
          "text": [
            "[[1. 1. 1.]\n",
            " [1. 1. 1.]\n",
            " [1. 1. 1.]]\n"
          ]
        }
      ]
    },
    {
      "cell_type": "code",
      "source": [
        "# Array of a particular value\n",
        "arr = np.full((4, 5), 11)\n",
        "print(arr)"
      ],
      "metadata": {
        "colab": {
          "base_uri": "https://localhost:8080/"
        },
        "id": "fZ0s-BubHkUS",
        "outputId": "ef2843c7-ae49-4190-8fae-79c6d1a57ef0"
      },
      "execution_count": null,
      "outputs": [
        {
          "output_type": "stream",
          "name": "stdout",
          "text": [
            "[[11 11 11 11 11]\n",
            " [11 11 11 11 11]\n",
            " [11 11 11 11 11]\n",
            " [11 11 11 11 11]]\n"
          ]
        }
      ]
    },
    {
      "cell_type": "code",
      "source": [
        "# create an identity matrix\n",
        "a = np.eye(4)\n",
        "print(a)"
      ],
      "metadata": {
        "colab": {
          "base_uri": "https://localhost:8080/"
        },
        "id": "RVxldyD5Hsdi",
        "outputId": "969c226c-da5b-4235-b8c9-6048ecdb0db1"
      },
      "execution_count": null,
      "outputs": [
        {
          "output_type": "stream",
          "name": "stdout",
          "text": [
            "[[1. 0. 0. 0.]\n",
            " [0. 1. 0. 0.]\n",
            " [0. 0. 1. 0.]\n",
            " [0. 0. 0. 1.]]\n"
          ]
        }
      ]
    },
    {
      "cell_type": "code",
      "source": [
        "# create a numpy arr with rand values\n",
        "b = np.random.random((3, 4))\n",
        "print(b)"
      ],
      "metadata": {
        "colab": {
          "base_uri": "https://localhost:8080/"
        },
        "id": "4GLcoc3tH9IR",
        "outputId": "6cf66b1a-aa7b-482a-93a8-75805b3c58c6"
      },
      "execution_count": null,
      "outputs": [
        {
          "output_type": "stream",
          "name": "stdout",
          "text": [
            "[[0.95842826 0.76924056 0.27936005 0.53263287]\n",
            " [0.88993235 0.80370291 0.97101814 0.00118899]\n",
            " [0.66759268 0.51583758 0.936599   0.67919861]]\n"
          ]
        }
      ]
    },
    {
      "cell_type": "code",
      "source": [
        "# rand int value array within range\n",
        "c = np.random.randint(10,100, (3, 5))\n",
        "print(c)"
      ],
      "metadata": {
        "colab": {
          "base_uri": "https://localhost:8080/"
        },
        "id": "eT4WZziJIPsZ",
        "outputId": "b5cac3ae-59b1-45f7-fb36-1c66102b4845"
      },
      "execution_count": null,
      "outputs": [
        {
          "output_type": "stream",
          "name": "stdout",
          "text": [
            "[[74 22 78 35 63]\n",
            " [97 51 38 84 63]\n",
            " [92 61 35 25 99]]\n"
          ]
        }
      ]
    },
    {
      "cell_type": "code",
      "source": [
        "# array of evenly spaced vals --> by specifying num of values req\n",
        "d = np.linspace(10, 30, 6)\n",
        "print(d)"
      ],
      "metadata": {
        "colab": {
          "base_uri": "https://localhost:8080/"
        },
        "id": "XZWadUF7IY2e",
        "outputId": "d3e94bad-71d9-4cb9-f64d-93a8c588cbc2"
      },
      "execution_count": null,
      "outputs": [
        {
          "output_type": "stream",
          "name": "stdout",
          "text": [
            "[10. 14. 18. 22. 26. 30.]\n"
          ]
        }
      ]
    },
    {
      "cell_type": "code",
      "source": [
        "# array of evenly spaced vals --> specifying the step\n",
        "\n",
        "e = np.arange(10, 30, 5)\n",
        "print(e)"
      ],
      "metadata": {
        "colab": {
          "base_uri": "https://localhost:8080/"
        },
        "id": "wIU-_-G3IkAU",
        "outputId": "32264906-407e-490f-d43f-7d992caccbdd"
      },
      "execution_count": null,
      "outputs": [
        {
          "output_type": "stream",
          "name": "stdout",
          "text": [
            "[10 15 20 25]\n"
          ]
        }
      ]
    },
    {
      "cell_type": "code",
      "source": [
        "# convert a list to a np array\n",
        "\n",
        "list2 = [10, 20, 30, 16, 78]\n",
        "\n",
        "np_array = np.asarray(list2)\n",
        "print(type(list2))\n",
        "print(type(np_array))\n",
        "\n",
        "print(np_array)"
      ],
      "metadata": {
        "colab": {
          "base_uri": "https://localhost:8080/"
        },
        "id": "ztyk5UWMI3Of",
        "outputId": "fc44011a-981e-4046-a4e2-52386645190c"
      },
      "execution_count": null,
      "outputs": [
        {
          "output_type": "stream",
          "name": "stdout",
          "text": [
            "<class 'list'>\n",
            "<class 'numpy.ndarray'>\n",
            "[10 20 30 16 78]\n"
          ]
        }
      ]
    },
    {
      "cell_type": "code",
      "source": [
        "# Analyzing an np array\n",
        "\n",
        "c = np.random.randint(10, 90, (6, 6))\n",
        "print(c)"
      ],
      "metadata": {
        "colab": {
          "base_uri": "https://localhost:8080/"
        },
        "id": "pgw3tZ7eJN-M",
        "outputId": "4a9c37f5-5199-4d75-b0a2-214f2d7b5e53"
      },
      "execution_count": null,
      "outputs": [
        {
          "output_type": "stream",
          "name": "stdout",
          "text": [
            "[[73 13 39 61 11 12]\n",
            " [71 37 54 76 75 53]\n",
            " [50 41 30 56 41 25]\n",
            " [57 58 49 73 10 67]\n",
            " [80 58 12 19 52 79]\n",
            " [46 43 11 54 53 80]]\n"
          ]
        }
      ]
    },
    {
      "cell_type": "code",
      "source": [
        "# find array dim\n",
        "c.shape"
      ],
      "metadata": {
        "colab": {
          "base_uri": "https://localhost:8080/"
        },
        "id": "CyWKQkPLJgwe",
        "outputId": "9b06a83c-1d72-4b3b-8a1c-bbba119f107a"
      },
      "execution_count": null,
      "outputs": [
        {
          "output_type": "execute_result",
          "data": {
            "text/plain": [
              "(6, 6)"
            ]
          },
          "metadata": {},
          "execution_count": 25
        }
      ]
    },
    {
      "cell_type": "code",
      "source": [
        "# number of dims\n",
        "print(c.ndim)"
      ],
      "metadata": {
        "colab": {
          "base_uri": "https://localhost:8080/"
        },
        "id": "gBbff-ADJjmn",
        "outputId": "028bc693-9349-4a83-8150-0e98ba27e881"
      },
      "execution_count": null,
      "outputs": [
        {
          "output_type": "stream",
          "name": "stdout",
          "text": [
            "2\n"
          ]
        }
      ]
    },
    {
      "cell_type": "code",
      "source": [
        "# number of elems in array\n",
        "print(c.size)"
      ],
      "metadata": {
        "colab": {
          "base_uri": "https://localhost:8080/"
        },
        "id": "s8uwzmP6Jn3z",
        "outputId": "7056149b-3da2-43be-870f-ced7071468db"
      },
      "execution_count": null,
      "outputs": [
        {
          "output_type": "stream",
          "name": "stdout",
          "text": [
            "36\n"
          ]
        }
      ]
    },
    {
      "cell_type": "code",
      "source": [
        "# checking data type of values in array\n",
        "\n",
        "print(c.dtype)"
      ],
      "metadata": {
        "colab": {
          "base_uri": "https://localhost:8080/"
        },
        "id": "JA-qrQqEJ2Tt",
        "outputId": "3fdd27f1-3a11-4ed6-da65-bced24393a9a"
      },
      "execution_count": null,
      "outputs": [
        {
          "output_type": "stream",
          "name": "stdout",
          "text": [
            "int64\n"
          ]
        }
      ]
    },
    {
      "cell_type": "code",
      "source": [
        "# Maths on np array\n",
        "a = np.random.randint(10, 30, (4, 4))\n",
        "b = np.random.randint(11, 100, (4, 4))\n"
      ],
      "metadata": {
        "id": "Jn6YIG6JJ7NI"
      },
      "execution_count": null,
      "outputs": []
    },
    {
      "cell_type": "code",
      "source": [
        "print(a)\n",
        "print(b)"
      ],
      "metadata": {
        "colab": {
          "base_uri": "https://localhost:8080/"
        },
        "id": "lw5W9j77KhS7",
        "outputId": "a4170a80-4393-4028-f0b9-904c63d7a9b7"
      },
      "execution_count": null,
      "outputs": [
        {
          "output_type": "stream",
          "name": "stdout",
          "text": [
            "[[28 28 29 14]\n",
            " [23 25 19 21]\n",
            " [17 16 20 13]\n",
            " [11 18 29 18]]\n",
            "[[63 27 39 31]\n",
            " [85 43 45 28]\n",
            " [50 13 33 35]\n",
            " [81 93 78 22]]\n"
          ]
        }
      ]
    },
    {
      "cell_type": "code",
      "source": [
        "# Element wise operations\n",
        "c = np.add(a, b)\n",
        "print(c)"
      ],
      "metadata": {
        "colab": {
          "base_uri": "https://localhost:8080/"
        },
        "id": "iTkrFE_qKmP5",
        "outputId": "3e5fe444-aa24-445a-f689-d5189ed24918"
      },
      "execution_count": null,
      "outputs": [
        {
          "output_type": "stream",
          "name": "stdout",
          "text": [
            "[[ 91  55  68  45]\n",
            " [108  68  64  49]\n",
            " [ 67  29  53  48]\n",
            " [ 92 111 107  40]]\n"
          ]
        }
      ]
    },
    {
      "cell_type": "code",
      "source": [
        "print(np.divide(a, b))"
      ],
      "metadata": {
        "colab": {
          "base_uri": "https://localhost:8080/"
        },
        "id": "RrSPLscRKq1E",
        "outputId": "a58fb3f6-db27-4dc2-ff87-46d4fc0d5dc3"
      },
      "execution_count": null,
      "outputs": [
        {
          "output_type": "stream",
          "name": "stdout",
          "text": [
            "[[0.44444444 1.03703704 0.74358974 0.4516129 ]\n",
            " [0.27058824 0.58139535 0.42222222 0.75      ]\n",
            " [0.34       1.23076923 0.60606061 0.37142857]\n",
            " [0.13580247 0.19354839 0.37179487 0.81818182]]\n"
          ]
        }
      ]
    },
    {
      "cell_type": "code",
      "source": [
        "print(np.subtract(a, b))"
      ],
      "metadata": {
        "colab": {
          "base_uri": "https://localhost:8080/"
        },
        "id": "QdmZj9XlMbmh",
        "outputId": "1e074969-2988-44e8-cd25-637639c38bb1"
      },
      "execution_count": null,
      "outputs": [
        {
          "output_type": "stream",
          "name": "stdout",
          "text": [
            "[[-35   1 -10 -17]\n",
            " [-62 -18 -26  -7]\n",
            " [-33   3 -13 -22]\n",
            " [-70 -75 -49  -4]]\n"
          ]
        }
      ]
    },
    {
      "cell_type": "code",
      "source": [
        "print(np.multiply(a, b))"
      ],
      "metadata": {
        "colab": {
          "base_uri": "https://localhost:8080/"
        },
        "id": "FlDSJq2SMkEN",
        "outputId": "4017158c-e79f-4808-b43f-628036abb746"
      },
      "execution_count": null,
      "outputs": [
        {
          "output_type": "stream",
          "name": "stdout",
          "text": [
            "[[1764  756 1131  434]\n",
            " [1955 1075  855  588]\n",
            " [ 850  208  660  455]\n",
            " [ 891 1674 2262  396]]\n"
          ]
        }
      ]
    },
    {
      "cell_type": "code",
      "source": [
        "# Array Manipulation\n",
        "\n",
        "arr = np.random.randint(0, 10, (2, 3))\n",
        "print(arr)\n",
        "print(arr.shape)\n"
      ],
      "metadata": {
        "colab": {
          "base_uri": "https://localhost:8080/"
        },
        "id": "sR6W5PTkMmiv",
        "outputId": "9aa8dd19-238f-4634-c045-65af77847b52"
      },
      "execution_count": null,
      "outputs": [
        {
          "output_type": "stream",
          "name": "stdout",
          "text": [
            "[[3 2 3]\n",
            " [3 8 3]]\n",
            "(2, 3)\n"
          ]
        }
      ]
    },
    {
      "cell_type": "code",
      "source": [
        "arr_trans = np.transpose(arr)\n",
        "print(arr_trans)\n",
        "print(arr_trans.shape)"
      ],
      "metadata": {
        "colab": {
          "base_uri": "https://localhost:8080/"
        },
        "id": "uhvqBfuBM2Ao",
        "outputId": "5eff4b21-4475-4f4d-b2c1-84309cc2744d"
      },
      "execution_count": null,
      "outputs": [
        {
          "output_type": "stream",
          "name": "stdout",
          "text": [
            "[[3 3]\n",
            " [2 8]\n",
            " [3 3]]\n",
            "(3, 2)\n"
          ]
        }
      ]
    },
    {
      "cell_type": "code",
      "source": [
        "# reshape an array\n",
        "a = np.random.randint(0, 10, (2, 3))\n",
        "print(a)\n",
        "print(a.shape)"
      ],
      "metadata": {
        "colab": {
          "base_uri": "https://localhost:8080/"
        },
        "id": "m9gOjmy_M8lU",
        "outputId": "df64b1d2-7947-469c-ea6e-1d8b177c787c"
      },
      "execution_count": null,
      "outputs": [
        {
          "output_type": "stream",
          "name": "stdout",
          "text": [
            "[[4 7 3]\n",
            " [4 0 6]]\n",
            "(2, 3)\n"
          ]
        }
      ]
    },
    {
      "cell_type": "code",
      "source": [
        "b = a.reshape(3, 2)"
      ],
      "metadata": {
        "id": "ZTFxg7nENWwG"
      },
      "execution_count": null,
      "outputs": []
    },
    {
      "cell_type": "code",
      "source": [
        "print(b)"
      ],
      "metadata": {
        "colab": {
          "base_uri": "https://localhost:8080/"
        },
        "id": "Dk6fWEAmT1UN",
        "outputId": "7a64aa86-be83-4b7b-d0e0-f74179fa222d"
      },
      "execution_count": null,
      "outputs": [
        {
          "output_type": "stream",
          "name": "stdout",
          "text": [
            "[[4 7]\n",
            " [3 4]\n",
            " [0 6]]\n"
          ]
        }
      ]
    },
    {
      "cell_type": "code",
      "source": [
        "print(b.shape)"
      ],
      "metadata": {
        "colab": {
          "base_uri": "https://localhost:8080/"
        },
        "id": "KyLCTAdQT2Yo",
        "outputId": "699ebbdf-fc51-4884-cfe2-1af4a6224185"
      },
      "execution_count": null,
      "outputs": [
        {
          "output_type": "stream",
          "name": "stdout",
          "text": [
            "(3, 2)\n"
          ]
        }
      ]
    },
    {
      "cell_type": "code",
      "source": [],
      "metadata": {
        "id": "6bt0_dDgT6ht"
      },
      "execution_count": null,
      "outputs": []
    }
  ]
}